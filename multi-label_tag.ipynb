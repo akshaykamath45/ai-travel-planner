{
 "cells": [
  {
   "cell_type": "markdown",
   "metadata": {},
   "source": [
    "🎯 Goal:\n",
    "Predict 1–3 trip tags a user is likely to select again based on their past preferences."
   ]
  },
  {
   "cell_type": "markdown",
   "metadata": {},
   "source": [
    "Step 1: Simulated Dataset\n",
    "Each row = a trip by a user\n",
    "Each column = 1 or 0 depending on whether that tag was chosen for that trip"
   ]
  },
  {
   "cell_type": "code",
   "execution_count": 1,
   "metadata": {},
   "outputs": [
    {
     "data": {
      "text/html": [
       "<div>\n",
       "<style scoped>\n",
       "    .dataframe tbody tr th:only-of-type {\n",
       "        vertical-align: middle;\n",
       "    }\n",
       "\n",
       "    .dataframe tbody tr th {\n",
       "        vertical-align: top;\n",
       "    }\n",
       "\n",
       "    .dataframe thead th {\n",
       "        text-align: right;\n",
       "    }\n",
       "</style>\n",
       "<table border=\"1\" class=\"dataframe\">\n",
       "  <thead>\n",
       "    <tr style=\"text-align: right;\">\n",
       "      <th></th>\n",
       "      <th>user_id</th>\n",
       "      <th>Adventure</th>\n",
       "      <th>Relaxation</th>\n",
       "      <th>Nature</th>\n",
       "      <th>Cultural</th>\n",
       "    </tr>\n",
       "  </thead>\n",
       "  <tbody>\n",
       "    <tr>\n",
       "      <th>0</th>\n",
       "      <td>105</td>\n",
       "      <td>0</td>\n",
       "      <td>0</td>\n",
       "      <td>1</td>\n",
       "      <td>0</td>\n",
       "    </tr>\n",
       "    <tr>\n",
       "      <th>1</th>\n",
       "      <td>104</td>\n",
       "      <td>1</td>\n",
       "      <td>1</td>\n",
       "      <td>0</td>\n",
       "      <td>1</td>\n",
       "    </tr>\n",
       "    <tr>\n",
       "      <th>2</th>\n",
       "      <td>102</td>\n",
       "      <td>1</td>\n",
       "      <td>1</td>\n",
       "      <td>1</td>\n",
       "      <td>0</td>\n",
       "    </tr>\n",
       "    <tr>\n",
       "      <th>3</th>\n",
       "      <td>103</td>\n",
       "      <td>0</td>\n",
       "      <td>1</td>\n",
       "      <td>0</td>\n",
       "      <td>1</td>\n",
       "    </tr>\n",
       "    <tr>\n",
       "      <th>4</th>\n",
       "      <td>108</td>\n",
       "      <td>0</td>\n",
       "      <td>1</td>\n",
       "      <td>1</td>\n",
       "      <td>0</td>\n",
       "    </tr>\n",
       "  </tbody>\n",
       "</table>\n",
       "</div>"
      ],
      "text/plain": [
       "   user_id  Adventure  Relaxation  Nature  Cultural\n",
       "0      105          0           0       1         0\n",
       "1      104          1           1       0         1\n",
       "2      102          1           1       1         0\n",
       "3      103          0           1       0         1\n",
       "4      108          0           1       1         0"
      ]
     },
     "execution_count": 1,
     "metadata": {},
     "output_type": "execute_result"
    }
   ],
   "source": [
    "import pandas as pd\n",
    "import numpy as np\n",
    "import random\n",
    "\n",
    "# Define tags and users\n",
    "tags = [\"Adventure\", \"Relaxation\", \"Nature\", \"Cultural\"]\n",
    "user_ids = list(range(101, 111))  # 10 users\n",
    "\n",
    "# Create 300 trips (rows)\n",
    "data = []\n",
    "for _ in range(300):\n",
    "    user = random.choice(user_ids)\n",
    "    selected_tags = random.sample(tags, random.randint(1, 3))\n",
    "    row = {tag: 1 if tag in selected_tags else 0 for tag in tags}\n",
    "    row[\"user_id\"] = user\n",
    "    data.append(row)\n",
    "\n",
    "df = pd.DataFrame(data)\n",
    "df = df[[\"user_id\"] + tags]  # reorder columns\n",
    "df.to_csv(\"tag_prediction_dataset.csv\", index=False)\n",
    "df.head()\n"
   ]
  },
  {
   "cell_type": "markdown",
   "metadata": {},
   "source": [
    "Step 2: Multi-Label Model with Random Forest"
   ]
  },
  {
   "cell_type": "code",
   "execution_count": 2,
   "metadata": {},
   "outputs": [
    {
     "name": "stdout",
     "output_type": "stream",
     "text": [
      "📊 Classification Report:\n",
      "\n",
      "              precision    recall  f1-score   support\n",
      "\n",
      "   Adventure       0.44      0.43      0.44        28\n",
      "  Relaxation       0.54      0.42      0.47        33\n",
      "      Nature       0.50      0.47      0.48        30\n",
      "    Cultural       0.59      0.62      0.61        32\n",
      "\n",
      "   micro avg       0.52      0.49      0.50       123\n",
      "   macro avg       0.52      0.49      0.50       123\n",
      "weighted avg       0.52      0.49      0.50       123\n",
      " samples avg       0.54      0.52      0.49       123\n",
      "\n"
     ]
    }
   ],
   "source": [
    "from sklearn.model_selection import train_test_split\n",
    "from sklearn.ensemble import RandomForestClassifier\n",
    "from sklearn.multioutput import MultiOutputClassifier\n",
    "from sklearn.preprocessing import OneHotEncoder\n",
    "from sklearn.pipeline import Pipeline\n",
    "from sklearn.compose import ColumnTransformer\n",
    "from sklearn.metrics import classification_report\n",
    "\n",
    "# Load the dataset\n",
    "df = pd.read_csv(\"tag_prediction_dataset.csv\")\n",
    "\n",
    "# Features and targets\n",
    "X = df[[\"user_id\"]]\n",
    "y = df.drop(columns=[\"user_id\"])  # target: multi-label tags\n",
    "\n",
    "# One-hot encode user_id\n",
    "encoder = ColumnTransformer(\n",
    "    transformers=[(\"user\", OneHotEncoder(), [\"user_id\"])],\n",
    "    remainder=\"passthrough\"\n",
    ")\n",
    "\n",
    "# Pipeline: encoder + classifier\n",
    "model = Pipeline([\n",
    "    (\"encode\", encoder),\n",
    "    (\"clf\", MultiOutputClassifier(RandomForestClassifier(random_state=42)))\n",
    "])\n",
    "\n",
    "# Split and train\n",
    "X_train, X_test, y_train, y_test = train_test_split(X, y, test_size=0.2, random_state=42)\n",
    "model.fit(X_train, y_train)\n",
    "\n",
    "# Evaluation\n",
    "y_pred = model.predict(X_test)\n",
    "print(\"📊 Classification Report:\\n\")\n",
    "print(classification_report(y_test, y_pred, target_names=y.columns))\n"
   ]
  },
  {
   "cell_type": "markdown",
   "metadata": {},
   "source": [
    "Basic Idea:\n",
    "Each user can have multiple correct labels (tags like Adventure, Relaxation, etc.), so the model is evaluated on how well it predicts each tag independently and collectively."
   ]
  },
  {
   "cell_type": "markdown",
   "metadata": {},
   "source": [
    "Explanation:\n",
    "Precision: Of all the times the model predicted a tag, how often was it correct?\n",
    "\n",
    "e.g., for \"Cultural\", 59% of predictions were actually right.\n",
    "\n",
    "Recall: Of all the real times the tag was supposed to be predicted, how often did the model catch it?\n",
    "\n",
    "e.g., for \"Relaxation\", it only caught 42% of the real cases.\n",
    "\n",
    "F1-score: Harmonic mean of precision and recall — a balanced measure.\n",
    "\n",
    "Support: How many test samples had that label in reality.\n",
    "\n"
   ]
  },
  {
   "cell_type": "markdown",
   "metadata": {},
   "source": [
    "Micro, Macro, Weighted, and Samples Avg:\n",
    "These are ways to combine all the tag performances into one number.\n",
    "\n",
    "\n",
    "Metric Type\tMeaning\n",
    "micro avg\tCalculates metrics globally (total true positives, etc.). Best for imbalanced labels.\n",
    "macro avg\tSimple average of metrics across all tags — treats all classes equally.\n",
    "weighted avg\tAverages weighted by number of instances per tag — adjusts for tag frequency.\n",
    "samples avg\tAverages F1 score across all users (samples), treating each user's multi-label prediction as a unit."
   ]
  },
  {
   "cell_type": "markdown",
   "metadata": {},
   "source": [
    "✅ Interpretation of Your Report:\n",
    "Your model is doing decently for Cultural (F1 = 0.61), but struggling a bit with Adventure and Relaxation (F1 ~ 0.44–0.47).\n",
    "\n",
    "The overall F1 score is around 0.50, meaning the model gets about 50% of the tags right — not bad for a first version trained on limited simulated data!"
   ]
  },
  {
   "cell_type": "markdown",
   "metadata": {},
   "source": [
    "Step 3: Predict Tags for a Returning User"
   ]
  },
  {
   "cell_type": "code",
   "execution_count": 6,
   "metadata": {},
   "outputs": [
    {
     "name": "stdout",
     "output_type": "stream",
     "text": [
      "🔮 Predicted tags for user 110: ['Nature', 'Cultural']\n"
     ]
    }
   ],
   "source": [
    "# Predict tags for a user logging in\n",
    "user_input = pd.DataFrame({\"user_id\": [110]})\n",
    "predicted = model.predict(user_input)[0]\n",
    "\n",
    "# Decode predicted tags\n",
    "predicted_tags = [tag for tag, val in zip(y.columns, predicted) if val == 1]\n",
    "print(f\"🔮 Predicted tags for user 110: {predicted_tags}\")"
   ]
  },
  {
   "cell_type": "markdown",
   "metadata": {},
   "source": [
    "Use Cases in Your App:\n",
    "🎯 Auto-select tags on dashboard when user logs in\n",
    "\n",
    "🧠 Improve suggestions before the user even interacts\n",
    "\n",
    "🔁 Update predictions after every trip (new feedback = better accuracy)"
   ]
  }
 ],
 "metadata": {
  "kernelspec": {
   "display_name": "Python 3",
   "language": "python",
   "name": "python3"
  },
  "language_info": {
   "codemirror_mode": {
    "name": "ipython",
    "version": 3
   },
   "file_extension": ".py",
   "mimetype": "text/x-python",
   "name": "python",
   "nbconvert_exporter": "python",
   "pygments_lexer": "ipython3",
   "version": "3.10.0"
  }
 },
 "nbformat": 4,
 "nbformat_minor": 2
}
